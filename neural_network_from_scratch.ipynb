{
 "cells": [
  {
   "cell_type": "code",
   "execution_count": 1,
   "id": "8c22ed1a",
   "metadata": {},
   "outputs": [],
   "source": [
    "import numpy as np\n",
    "import pandas as pd\n",
    "import math"
   ]
  },
  {
   "cell_type": "code",
   "execution_count": 2,
   "id": "70c11b96",
   "metadata": {},
   "outputs": [],
   "source": [
    "input_size=10\n",
    "hidden_layer_sizes=10*10\n",
    "output_size=2"
   ]
  },
  {
   "cell_type": "code",
   "execution_count": 4,
   "id": "c7bfe3e2",
   "metadata": {},
   "outputs": [
    {
     "name": "stdout",
     "output_type": "stream",
     "text": [
      "Cost after epoch 0: 0.6863132793776795\n",
      "Cost after epoch 100: 0.616033871506052\n",
      "Cost after epoch 200: 0.6028100761408289\n",
      "Cost after epoch 300: 0.6000720730541704\n",
      "Cost after epoch 400: 0.5994734066503316\n",
      "Cost after epoch 500: 0.599338884320537\n",
      "Cost after epoch 600: 0.5993082522901794\n",
      "Cost after epoch 700: 0.5993012321955095\n",
      "Cost after epoch 800: 0.5992996183918963\n",
      "Cost after epoch 900: 0.5992992468543684\n"
     ]
    }
   ],
   "source": [
    "import numpy as np\n",
    "\n",
    "# Define your neural network architecture\n",
    "input_size = 10\n",
    "hidden_layer_sizes = [10] * 10  # 10 hidden layers with 64 neurons each\n",
    "output_size = 1\n",
    "\n",
    "# Initialize weights and biases\n",
    "def initialize_parameters(layer_sizes):\n",
    "    parameters = {}\n",
    "    for l in range(1, len(layer_sizes)):\n",
    "        parameters[f\"W{l}\"] = np.random.randn(layer_sizes[l], layer_sizes[l - 1]) * 0.01\n",
    "        parameters[f\"b{l}\"] = np.zeros((layer_sizes[l], 1))\n",
    "    return parameters\n",
    "\n",
    "# Activation functions\n",
    "def sigmoid(z):\n",
    "    return 1 / (1 + np.exp(-z))\n",
    "\n",
    "# Forward propagation\n",
    "def forward_propagation(X, parameters):\n",
    "    cache = {\"A0\": X}\n",
    "    for l in range(1, len(hidden_layer_sizes) + 2):\n",
    "        Z = np.dot(parameters[f\"W{l}\"], cache[f\"A{l - 1}\"]) + parameters[f\"b{l}\"]\n",
    "        A = sigmoid(Z)\n",
    "        cache[f\"Z{l}\"] = Z\n",
    "        cache[f\"A{l}\"] = A\n",
    "    return cache[f\"A{len(hidden_layer_sizes) + 1}\"], cache\n",
    "\n",
    "# Initialize training data\n",
    "X = np.random.rand(input_size, 1)  # Replace with your own data\n",
    "Y = np.random.rand(output_size, 1)  # Replace with your own labels\n",
    "\n",
    "# Hyperparameters\n",
    "learning_rate = 0.01\n",
    "epochs = 1000\n",
    "\n",
    "# Training the neural network\n",
    "parameters = initialize_parameters([input_size] + hidden_layer_sizes + [output_size])\n",
    "\n",
    "for epoch in range(epochs):\n",
    "    # Forward propagation\n",
    "    AL, cache = forward_propagation(X, parameters)\n",
    "\n",
    "    # Compute cost\n",
    "    cost = -np.mean(Y * np.log(AL) + (1 - Y) * np.log(1 - AL))\n",
    "\n",
    "    # Backpropagation\n",
    "    dA = - (np.divide(Y, AL) - np.divide(1 - Y, 1 - AL))\n",
    "    for l in range(len(hidden_layer_sizes) + 1, 0, -1):\n",
    "        dZ = dA * AL * (1 - AL)\n",
    "        dW = np.dot(dZ, cache[f\"A{l - 1}\"].T)\n",
    "        db = np.sum(dZ, axis=1, keepdims=True)\n",
    "        dA = np.dot(parameters[f\"W{l}\"].T, dZ)\n",
    "        parameters[f\"W{l}\"] -= learning_rate * dW\n",
    "        parameters[f\"b{l}\"] -= learning_rate * db\n",
    "\n",
    "    if epoch % 100 == 0:\n",
    "        print(f\"Cost after epoch {epoch}: {cost}\")\n",
    "\n",
    "# Make predictions\n",
    "predictions, _ = forward_propagation(X, parameters)"
   ]
  },
  {
   "cell_type": "code",
   "execution_count": null,
   "id": "10068922",
   "metadata": {},
   "outputs": [],
   "source": []
  }
 ],
 "metadata": {
  "kernelspec": {
   "display_name": "Python 3 (ipykernel)",
   "language": "python",
   "name": "python3"
  },
  "language_info": {
   "codemirror_mode": {
    "name": "ipython",
    "version": 3
   },
   "file_extension": ".py",
   "mimetype": "text/x-python",
   "name": "python",
   "nbconvert_exporter": "python",
   "pygments_lexer": "ipython3",
   "version": "3.9.13"
  }
 },
 "nbformat": 4,
 "nbformat_minor": 5
}
